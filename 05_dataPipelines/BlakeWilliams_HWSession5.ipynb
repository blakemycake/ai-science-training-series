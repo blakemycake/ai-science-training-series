{
 "cells": [
  {
   "cell_type": "code",
   "execution_count": 1,
   "id": "87bc0349",
   "metadata": {},
   "outputs": [],
   "source": [
    "import pandas as pd\n",
    "import numpy as np"
   ]
  },
  {
   "cell_type": "code",
   "execution_count": 2,
   "id": "13d13022",
   "metadata": {},
   "outputs": [
    {
     "name": "stdout",
     "output_type": "stream",
     "text": [
      "    parallel_threads  prefetch_buffer_size  mean_image_rate   stdev\n",
      "0                256                     8           789.48  116.17\n",
      "1                256                    16           749.30   72.63\n",
      "2                256                    32           667.32  220.36\n",
      "3                144                     8           874.76   94.26\n",
      "4                144                    16           908.47   75.83\n",
      "5                144                    32           882.08   53.16\n",
      "6                128                     8           882.44   64.40\n",
      "7                128                    16           924.66   85.03\n",
      "8                128                    32           909.45   91.02\n",
      "9                 64                     8          1049.03   58.67\n",
      "10                64                    16          1028.48   97.66\n",
      "11                64                    32          1043.27   51.22\n",
      "12                32                     8          1039.53  226.97\n",
      "13                32                    16          1118.53   37.21\n",
      "14                32                    32          1112.77   30.25\n"
     ]
    }
   ],
   "source": [
    "df = pd.read_csv(\"S5_table.csv\")\n",
    "print(df)\n",
    "#table shows mean image rate decreases with decreasing number of parallel threads\n",
    "#prefetch buffer size doesn't have large affect on mean image rate"
   ]
  }
 ],
 "metadata": {
  "kernelspec": {
   "display_name": "conda/2022-07-01",
   "language": "python",
   "name": "conda-2022-07-01"
  },
  "language_info": {
   "codemirror_mode": {
    "name": "ipython",
    "version": 3
   },
   "file_extension": ".py",
   "mimetype": "text/x-python",
   "name": "python",
   "nbconvert_exporter": "python",
   "pygments_lexer": "ipython3",
   "version": "3.8.13"
  }
 },
 "nbformat": 4,
 "nbformat_minor": 5
}
